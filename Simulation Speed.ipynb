{
 "cells": [
  {
   "cell_type": "code",
   "execution_count": 2,
   "id": "e60b5ba0-b0c4-45b0-9184-bcf991714aa8",
   "metadata": {},
   "outputs": [
    {
     "name": "stdout",
     "output_type": "stream",
     "text": [
      "Date: 2023-02-13, Production Rate: 628.5 T/day\n",
      "Date: 2023-02-15, Production Rate: 628.5 T/day\n",
      "Date: 2023-02-17, Production Rate: 628.5 T/day\n",
      "Date: 2023-02-19, Production Rate: 628.5 T/day\n",
      "Date: 2023-02-21, Production Rate: 628.5 T/day\n",
      "Date: 2023-02-23, Production Rate: 628.5 T/day\n",
      "Date: 2023-02-25, Production Rate: 628.5 T/day\n",
      "Date: 2023-02-27, Production Rate: 628.5 T/day\n"
     ]
    }
   ],
   "source": [
    "import datetime\n",
    "\n",
    "mine_data = {\n",
    "    'Mine': 'Geoth Minerals',\n",
    "    'Material': 'iron ore',\n",
    "    'TotalOre': 1257,\n",
    "    'AverageGrade': '62% Fe',\n",
    "    'TotalWaste': 201,\n",
    "    'StrippingRatio': 0.16,\n",
    "}\n",
    "\n",
    "equipment_data = {\n",
    "    'Equipment': 'Komatsu Dump Truck',\n",
    "    'Type': 'Truck',\n",
    "    'Utilization': '58%',\n",
    "    'FuelConsumed': '160 gal diesel',\n",
    "    'DistanceTravelled': '560 km',\n",
    "    'MaterialMoved': '1250 T',\n",
    "}\n",
    "\n",
    "# Define simulation parameters\n",
    "simulation_start_date = datetime.datetime(2023, 2, 13)\n",
    "simulation_end_date = datetime.datetime(2023, 2, 28)\n",
    "time_interval = datetime.timedelta(days=2)\n",
    "\n",
    "# Simulation function\n",
    "def simulate_production_rates(start_date, end_date, time_interval, mine_data, equipment_data):\n",
    "    current_date = start_date\n",
    "    while current_date <= end_date:\n",
    "        production_rate = mine_data['TotalOre'] / time_interval.days  \n",
    "\n",
    "        print(f\"Date: {current_date.strftime('%Y-%m-%d')}, Production Rate: {production_rate} T/day\")\n",
    "\n",
    "        current_date += time_interval\n",
    "\n",
    "# Run the simulation\n",
    "simulate_production_rates(simulation_start_date, simulation_end_date, time_interval, mine_data, equipment_data)\n"
   ]
  },
  {
   "cell_type": "code",
   "execution_count": null,
   "id": "ebeba19f-77e3-4eb5-b2f2-2c6a32cd16a9",
   "metadata": {},
   "outputs": [],
   "source": []
  }
 ],
 "metadata": {
  "kernelspec": {
   "display_name": "Python 3 (ipykernel)",
   "language": "python",
   "name": "python3"
  },
  "language_info": {
   "codemirror_mode": {
    "name": "ipython",
    "version": 3
   },
   "file_extension": ".py",
   "mimetype": "text/x-python",
   "name": "python",
   "nbconvert_exporter": "python",
   "pygments_lexer": "ipython3",
   "version": "3.12.0"
  }
 },
 "nbformat": 4,
 "nbformat_minor": 5
}
