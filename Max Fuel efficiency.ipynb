{
 "cells": [
  {
   "cell_type": "code",
   "execution_count": 1,
   "id": "9e6ef413-fb44-45aa-b00c-777b421d46d7",
   "metadata": {},
   "outputs": [
    {
     "name": "stdin",
     "output_type": "stream",
     "text": [
      "enter distance =  80\n",
      "enter consumedfuel =  210\n"
     ]
    },
    {
     "name": "stdout",
     "output_type": "stream",
     "text": [
      "distance: 80 m\n",
      "consumedfuel : 210 l\n",
      "fuel efficiency: 0.38095238095238093 m/l\n"
     ]
    }
   ],
   "source": [
    "class SimulationParameters:\n",
    "    def __init__(self, distance, consumedfuel):\n",
    "        self.distance = distance\n",
    "        self.consumedfuel = consumedfuel\n",
    "\n",
    "    def display_parameters(self):\n",
    "        print(f\"distance: {self.distance} m\")\n",
    "        print(f\"consumedfuel : {self.consumedfuel} l\")\n",
    "\n",
    "\n",
    "def run_simulation(parameters):\n",
    "    # Your simulation logic goes here using the parameters\n",
    "    fuelefficiency = parameters.distance / parameters.consumedfuel\n",
    "    print(f\"fuel efficiency: {fuelefficiency} m/l\")\n",
    "\n",
    "\n",
    "# Example usage:\n",
    "if __name__ == \"__main__\":\n",
    "    # Set simulation parameters\n",
    "    distance = int(input(\"enter distance = \")) # m\n",
    "    time = int(input(\"enter consumedfuel = \")) # l\n",
    "    \n",
    "\n",
    "    # Create simulation parameters object\n",
    "    simulation_params = SimulationParameters( distance, time)\n",
    "\n",
    "    # Display simulation parameters\n",
    "    simulation_params.display_parameters()\n",
    "\n",
    "    # Run the simulation\n",
    "    run_simulation(simulation_params)"
   ]
  },
  {
   "cell_type": "code",
   "execution_count": null,
   "id": "9ed2df5a-62fb-4a45-b192-9da21e631cb0",
   "metadata": {},
   "outputs": [],
   "source": []
  }
 ],
 "metadata": {
  "kernelspec": {
   "display_name": "Python 3 (ipykernel)",
   "language": "python",
   "name": "python3"
  },
  "language_info": {
   "codemirror_mode": {
    "name": "ipython",
    "version": 3
   },
   "file_extension": ".py",
   "mimetype": "text/x-python",
   "name": "python",
   "nbconvert_exporter": "python",
   "pygments_lexer": "ipython3",
   "version": "3.12.0"
  }
 },
 "nbformat": 4,
 "nbformat_minor": 5
}
