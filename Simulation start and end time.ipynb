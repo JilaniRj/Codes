{
 "cells": [
  {
   "cell_type": "code",
   "execution_count": 1,
   "id": "e667066f-e113-4579-9c79-4043b8890673",
   "metadata": {},
   "outputs": [
    {
     "name": "stdout",
     "output_type": "stream",
     "text": [
      "Simulation starts at: 2023-10-02 08:00:00\n",
      "Simulation ends at: 2023-10-03 08:00:00\n"
     ]
    }
   ],
   "source": [
    "from datetime import datetime, timedelta\n",
    "start_time = datetime(2023, 10, 2, 8, 0, 0)  # Year, Month, Day, Hour, Minute, Second\n",
    "simulation_duration = timedelta(days=1)\n",
    "end_time = start_time + simulation_duration\n",
    "print(f\"Simulation starts at: {start_time}\")\n",
    "print(f\"Simulation ends at: {end_time}\")"
   ]
  },
  {
   "cell_type": "code",
   "execution_count": null,
   "id": "90dc47bd-c786-4add-a255-0a02518f974a",
   "metadata": {},
   "outputs": [],
   "source": []
  }
 ],
 "metadata": {
  "kernelspec": {
   "display_name": "Python 3 (ipykernel)",
   "language": "python",
   "name": "python3"
  },
  "language_info": {
   "codemirror_mode": {
    "name": "ipython",
    "version": 3
   },
   "file_extension": ".py",
   "mimetype": "text/x-python",
   "name": "python",
   "nbconvert_exporter": "python",
   "pygments_lexer": "ipython3",
   "version": "3.12.0"
  }
 },
 "nbformat": 4,
 "nbformat_minor": 5
}
