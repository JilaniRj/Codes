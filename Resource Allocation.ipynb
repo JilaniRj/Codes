{
 "cells": [
  {
   "cell_type": "code",
   "execution_count": 2,
   "id": "23bd021a-0414-4231-b691-4b303bbca413",
   "metadata": {},
   "outputs": [
    {
     "name": "stdout",
     "output_type": "stream",
     "text": [
      "Optimal allocation for RP Minerals:\n",
      "  Dragline 1: ('RP Minerals', 'Dragline 1', 'Overburden', 'Day')\n",
      "  Truck 1: ('RP Minerals', 'Truck 1', 'Coal', 'Day')\n",
      "Optimal allocation for Reddy Coal Mine:\n",
      "  Shovel 1: ('Reddy Coal Mine', 'Shovel 1', 'Overburden', 'Night')\n",
      "  Truck 2: ('Reddy Coal Mine', 'Truck 2', 'Coal', 'Night')\n",
      "Optimal allocation for Vasanth Coal Mine:\n",
      "  Shovel 1: ('Vasanth Coal Mine', 'Shovel 1', 'Overburden', 'Day')\n",
      "  Truck 1: ('Vasanth Coal Mine', 'Truck 1', 'Coal', 'Day')\n"
     ]
    }
   ],
   "source": [
    "import pandas as pd #data manipulation\n",
    "# Load CSV data into DataFrame\n",
    "df = pd.read_csv('M12.csv')\n",
    "# Data preprocessing if needed\n",
    "# Define factors\n",
    "factors = ['Mine', 'Equipment', 'Material', 'Shift']\n",
    "# Check if factors are present in the DataFrame\n",
    "if not all(factor in df.columns for factor in factors):\n",
    "    print(\"Some factors are not present in the DataFrame columns.\")\n",
    "else:\n",
    "    # Algorithm development (simplified example)\n",
    "    for mine, group in df.groupby('Mine'):\n",
    "        print(f\"Optimal allocation for {mine}:\")\n",
    "        for equipment, subgroup in group.groupby('Equipment'):\n",
    "            # Example: Allocate resources based on the highest average actual throughput\n",
    "            allocation = subgroup.groupby(factors)['Actual_TPH'].mean().idxmax()\n",
    "            print(f\"  {equipment}: {allocation}\")\n"
   ]
  },
  {
   "cell_type": "code",
   "execution_count": null,
   "id": "07a84679-62fe-455e-a86b-da79ea4dc187",
   "metadata": {},
   "outputs": [],
   "source": []
  },
  {
   "cell_type": "code",
   "execution_count": null,
   "id": "4fd928ea-8b6d-4500-91e5-faea91bafea9",
   "metadata": {},
   "outputs": [],
   "source": []
  }
 ],
 "metadata": {
  "kernelspec": {
   "display_name": "Python 3 (ipykernel)",
   "language": "python",
   "name": "python3"
  },
  "language_info": {
   "codemirror_mode": {
    "name": "ipython",
    "version": 3
   },
   "file_extension": ".py",
   "mimetype": "text/x-python",
   "name": "python",
   "nbconvert_exporter": "python",
   "pygments_lexer": "ipython3",
   "version": "3.12.0"
  }
 },
 "nbformat": 4,
 "nbformat_minor": 5
}
