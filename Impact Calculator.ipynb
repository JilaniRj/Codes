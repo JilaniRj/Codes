{
 "cells": [
  {
   "cell_type": "code",
   "execution_count": 2,
   "id": "7e6d75da-b26c-440e-bead-146e545df535",
   "metadata": {},
   "outputs": [
    {
     "name": "stdin",
     "output_type": "stream",
     "text": [
      "Enter annual electricity consumption in kWh:  987\n",
      "Enter annual transportation distance in miles:  908\n",
      "Enter annual waste generated in kg:  98\n"
     ]
    },
    {
     "name": "stdout",
     "output_type": "stream",
     "text": [
      "Your annual carbon footprint is 586.20 kgCO2.\n"
     ]
    }
   ],
   "source": [
    "def calculate_carbon_footprint():\n",
    "    # Input values\n",
    "    electricity_consumption = float(input(\"Enter annual electricity consumption in kWh: \"))\n",
    "    transportation_distance = float(input(\"Enter annual transportation distance in miles: \"))\n",
    "    waste_generated = float(input(\"Enter annual waste generated in kg: \"))\n",
    "    # Conversion factors\n",
    "    electricity_emission_factor = 0.4  # Example emission factor for electricity in kgCO2/kWh\n",
    "    transportation_emission_factor = 0.2  # Example emission factor for transportation in kgCO2/mile\n",
    "    waste_emission_factor = 0.1  # Example emission factor for waste in kgCO2/kg\n",
    "    # Calculate carbon footprint\n",
    "    electricity_emission = electricity_consumption * electricity_emission_factor\n",
    "    transportation_emission = transportation_distance * transportation_emission_factor\n",
    "    waste_emission = waste_generated * waste_emission_factor\n",
    "    total_emission = electricity_emission + transportation_emission + waste_emission\n",
    "    print(f\"Your annual carbon footprint is {total_emission:.2f} kgCO2.\")\n",
    "if __name__ == \"__main__\":\n",
    "    calculate_carbon_footprint()"
   ]
  },
  {
   "cell_type": "code",
   "execution_count": null,
   "id": "17e0e679-8036-4ab0-8c1b-24f539de241e",
   "metadata": {},
   "outputs": [],
   "source": []
  }
 ],
 "metadata": {
  "kernelspec": {
   "display_name": "Python 3 (ipykernel)",
   "language": "python",
   "name": "python3"
  },
  "language_info": {
   "codemirror_mode": {
    "name": "ipython",
    "version": 3
   },
   "file_extension": ".py",
   "mimetype": "text/x-python",
   "name": "python",
   "nbconvert_exporter": "python",
   "pygments_lexer": "ipython3",
   "version": "3.12.0"
  }
 },
 "nbformat": 4,
 "nbformat_minor": 5
}
