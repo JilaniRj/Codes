{
 "cells": [
  {
   "cell_type": "code",
   "execution_count": 5,
   "id": "9de6a24e-68ea-4141-b95d-d5193429881f",
   "metadata": {},
   "outputs": [
    {
     "name": "stdout",
     "output_type": "stream",
     "text": [
      "Simulating drilling with Drill1 in East: 200m, 100, 50.\n",
      "Simulating drilling with Drill2 in West: 100m, 80, 40.\n",
      "\n",
      "Drilling completed. Moving to Hauling...\n",
      "\n",
      "Simulating hauling with Truck1 in North: 300m, 120, 60.\n",
      "Simulating hauling with Truck2 in South: 200m, 90, 45.\n",
      "\n",
      "Hauling completed. Moving to Loading...\n",
      "\n",
      "Simulating loading with Loader1 in West: 150m, 70, 35.\n",
      "Simulating loading with Loader2 in East: 180m, 100, 50.\n",
      "\n",
      "Loading completed.\n",
      "\n"
     ]
    }
   ],
   "source": [
    "class Equipment:\n",
    "    def __init__(self, name, equipment_type, capacity, power, cost, section, equipment_subtype, area_depth, area_length, area_width):\n",
    "        self.name = name\n",
    "        self.equipment_type = equipment_type\n",
    "        self.capacity = capacity\n",
    "        self.power = power\n",
    "        self.cost = cost\n",
    "        self.section = section\n",
    "        self.equipment_subtype = equipment_subtype\n",
    "        self.area_depth = area_depth\n",
    "        self.area_length = area_length\n",
    "        self.area_width = area_width\n",
    "\n",
    "def simulate_mine_operations(drilling_data, hauling_data, construction_data):\n",
    "    # Drilling\n",
    "    for drill in drilling_data:\n",
    "        print(f\"Simulating drilling with {drill.name} in {drill.section}: {drill.area_depth}, {drill.area_length}, {drill.area_width}.\")\n",
    "    print(\"\\nDrilling completed. Moving to Hauling...\\n\")\n",
    "    \n",
    "    # Hauling\n",
    "    for truck in hauling_data:\n",
    "        print(f\"Simulating hauling with {truck.name} in {truck.section}: {truck.area_depth}, {truck.area_length}, {truck.area_width}.\")\n",
    "    print(\"\\nHauling completed. Moving to Loading...\\n\")\n",
    "    \n",
    "    # Loading\n",
    "    for loader in construction_data:\n",
    "        print(f\"Simulating loading with {loader.name} in {loader.section}: {loader.area_depth}, {loader.area_length}, {loader.area_width}.\")\n",
    "    print(\"\\nLoading completed.\\n\")\n",
    "\n",
    "# Integration Testing\n",
    "def integration_test():\n",
    "    # CSV data\n",
    "    csv_data_drilling = [\n",
    "        \"Drill1,Rotary,2000m,4500kW,1000$,East,Surface,200m,100,50\",\n",
    "        \"Drill2,Core,1500m,3000kW,800$,West,Underground,100m,80,40\",\n",
    "    ]\n",
    "\n",
    "    csv_data_hauling = [\n",
    "        \"Truck1,Dump,5000kg,2000kW,1500$,North,Surface,300m,120,60\",\n",
    "        \"Truck2,Hauler,8000kg,3500kW,2000$,South,Underground,200m,90,45\",\n",
    "    ]\n",
    "\n",
    "    csv_data_construction = [\n",
    "        \"Loader1,Front-end,3000kg,1500kW,1200$,West,Surface,150m,70,35\",\n",
    "        \"Loader2,Backhoe,4000kg,1800kW,1600$,East,Surface,180m,100,50\",\n",
    "    ]\n",
    "\n",
    "    # Convert CSV data into Equipment instances\n",
    "    drilling_data = [Equipment(*entry.split(',')) for entry in csv_data_drilling]\n",
    "    hauling_data = [Equipment(*entry.split(',')) for entry in csv_data_hauling]\n",
    "    construction_data = [Equipment(*entry.split(',')) for entry in csv_data_construction]\n",
    "\n",
    "    # Call the simulate_mine_operations function\n",
    "    simulate_mine_operations(drilling_data, hauling_data, construction_data)\n",
    "\n",
    "# Run the integration test\n",
    "integration_test()\n"
   ]
  },
  {
   "cell_type": "code",
   "execution_count": null,
   "id": "57aee20d-a959-4242-963d-02b19a5e5b5c",
   "metadata": {},
   "outputs": [],
   "source": []
  }
 ],
 "metadata": {
  "kernelspec": {
   "display_name": "Python 3 (ipykernel)",
   "language": "python",
   "name": "python3"
  },
  "language_info": {
   "codemirror_mode": {
    "name": "ipython",
    "version": 3
   },
   "file_extension": ".py",
   "mimetype": "text/x-python",
   "name": "python",
   "nbconvert_exporter": "python",
   "pygments_lexer": "ipython3",
   "version": "3.12.0"
  }
 },
 "nbformat": 4,
 "nbformat_minor": 5
}
