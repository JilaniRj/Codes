{
 "cells": [
  {
   "cell_type": "code",
   "execution_count": 3,
   "id": "79c8c231-bacc-4fa5-b46c-2bbfd9270449",
   "metadata": {},
   "outputs": [
    {
     "name": "stdout",
     "output_type": "stream",
     "text": [
      "Encrypted Message: b'gAAAAABlyHrNUui2OPm7Hc6HAYQjPwd_M-SgPUFW30zmoz765sNq_Ivn8BxNNZY-d6X7UP8gZyheOWUs3pcanL1YmcNJmbIYKC6Iu3KvwvnlV-aNaHD32pHJ9Wx0Hn5jM0OK6zG6mttZ'\n"
     ]
    }
   ],
   "source": [
    "from cryptography.fernet import Fernet #for symmetric key encryption algorithm\n",
    "key = Fernet.generate_key() #for encryption and decryption\n",
    "cipher_suite = Fernet(key) #fro encrypting and decrypting operations by generating fernet key\n",
    "# Encrypt a message here in inverted commas or the data I have to encrypt\n",
    "message = b\"Hello, this is a secret message.\"\n",
    "cipher_text = cipher_suite.encrypt(message)\n",
    "print(\"Encrypted Message:\", cipher_text)\n",
    "\n"
   ]
  },
  {
   "cell_type": "code",
   "execution_count": 4,
   "id": "4dc7253e-c188-41dd-ab92-1f800a84fd96",
   "metadata": {},
   "outputs": [
    {
     "name": "stdout",
     "output_type": "stream",
     "text": [
      "Decrypted Message: Hello, this is a secret message.\n"
     ]
    }
   ],
   "source": [
    "decrypted_text = cipher_suite.decrypt(cipher_text)\n",
    "print(\"Decrypted Message:\", decrypted_text.decode())\n"
   ]
  },
  {
   "cell_type": "code",
   "execution_count": 5,
   "id": "389f4f19-7033-44be-8a8e-9d83e1ed28cc",
   "metadata": {},
   "outputs": [
    {
     "name": "stdout",
     "output_type": "stream",
     "text": [
      "Original Message: b'Hello, this is a secret message.'\n"
     ]
    }
   ],
   "source": [
    "print(\"Original Message:\", message)\n"
   ]
  },
  {
   "cell_type": "code",
   "execution_count": null,
   "id": "3188aa58-fe8c-4f49-80ff-7f9ddf7e5930",
   "metadata": {},
   "outputs": [],
   "source": []
  }
 ],
 "metadata": {
  "kernelspec": {
   "display_name": "Python 3 (ipykernel)",
   "language": "python",
   "name": "python3"
  },
  "language_info": {
   "codemirror_mode": {
    "name": "ipython",
    "version": 3
   },
   "file_extension": ".py",
   "mimetype": "text/x-python",
   "name": "python",
   "nbconvert_exporter": "python",
   "pygments_lexer": "ipython3",
   "version": "3.12.0"
  }
 },
 "nbformat": 4,
 "nbformat_minor": 5
}
