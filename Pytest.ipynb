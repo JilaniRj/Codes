{
 "cells": [
  {
   "cell_type": "code",
   "execution_count": 5,
   "id": "d38071fc-429d-416c-b4ae-949f45a98835",
   "metadata": {},
   "outputs": [],
   "source": [
    "import pandas as pd\n",
    "import pytest\n",
    "# Function to load the CSV data\n",
    "def load_csv(file_path):\n",
    "    return pd.read_csv(file_path)\n",
    "# Test to check if the CSV data is loaded successfully\n",
    "def test_load_csv():\n",
    "    file_path = r'E:\\Material\\M12.csv'\n",
    "    df = load_csv(file_path)\n",
    "    assert not df.empty\n",
    "# Test to check if the 'Shift' column contains valid values\n",
    "def test_shift_column():\n",
    "    file_path = r'E:\\Material\\M12.csv'\n",
    "    df = load_csv(file_path)\n",
    "    valid_shifts = ['Day', 'Night']\n",
    "    assert all(df['Shift'].isin(valid_shifts))\n",
    "# Test to check if 'Actual_TPH' is greater than or equal to 0 for all rows\n",
    "def test_actual_tph_non_negative():\n",
    "    file_path = r'E:\\Material\\M12.csv'\n",
    "    df = load_csv(file_path)\n",
    "    assert all(df['Actual_TPH'] >= 0)\n",
    "# Add more tests as needed based on your specific requirements"
   ]
  },
  {
   "cell_type": "code",
   "execution_count": 2,
   "id": "e97486a7-4d9f-4f7c-ab19-239e63819105",
   "metadata": {},
   "outputs": [
    {
     "name": "stdout",
     "output_type": "stream",
     "text": [
      "Collecting pytestNote: you may need to restart the kernel to use updated packages.\n"
     ]
    },
    {
     "name": "stderr",
     "output_type": "stream",
     "text": [
      "\n",
      "[notice] A new release of pip is available: 23.2.1 -> 24.0\n",
      "[notice] To update, run: C:\\Users\\CW\\AppData\\Local\\Programs\\Python\\Python312\\python.exe -m pip install --upgrade pip\n"
     ]
    },
    {
     "name": "stdout",
     "output_type": "stream",
     "text": [
      "\n",
      "  Obtaining dependency information for pytest from https://files.pythonhosted.org/packages/c7/10/727155d44c5e04bb08e880668e53079547282e4f950535234e5a80690564/pytest-8.0.0-py3-none-any.whl.metadata\n",
      "  Downloading pytest-8.0.0-py3-none-any.whl.metadata (7.8 kB)\n",
      "Collecting iniconfig (from pytest)\n",
      "  Downloading iniconfig-2.0.0-py3-none-any.whl (5.9 kB)\n",
      "Requirement already satisfied: packaging in c:\\users\\cw\\appdata\\local\\programs\\python\\python312\\lib\\site-packages (from pytest) (23.2)\n",
      "Collecting pluggy<2.0,>=1.3.0 (from pytest)\n",
      "  Obtaining dependency information for pluggy<2.0,>=1.3.0 from https://files.pythonhosted.org/packages/a5/5b/0cc789b59e8cc1bf288b38111d002d8c5917123194d45b29dcdac64723cc/pluggy-1.4.0-py3-none-any.whl.metadata\n",
      "  Downloading pluggy-1.4.0-py3-none-any.whl.metadata (4.3 kB)\n",
      "Requirement already satisfied: colorama in c:\\users\\cw\\appdata\\local\\programs\\python\\python312\\lib\\site-packages (from pytest) (0.4.6)\n",
      "Downloading pytest-8.0.0-py3-none-any.whl (334 kB)\n",
      "   ---------------------------------------- 0.0/334.0 kB ? eta -:--:--\n",
      "   ---------------------------------------- 0.0/334.0 kB ? eta -:--:--\n",
      "   --- ----------------------------------- 30.7/334.0 kB 660.6 kB/s eta 0:00:01\n",
      "   --------- ----------------------------- 81.9/334.0 kB 919.0 kB/s eta 0:00:01\n",
      "   ----------------------- ---------------- 194.6/334.0 kB 1.5 MB/s eta 0:00:01\n",
      "   ---------------------------------------- 334.0/334.0 kB 2.1 MB/s eta 0:00:00\n",
      "Downloading pluggy-1.4.0-py3-none-any.whl (20 kB)\n",
      "Installing collected packages: pluggy, iniconfig, pytest\n",
      "Successfully installed iniconfig-2.0.0 pluggy-1.4.0 pytest-8.0.0\n"
     ]
    }
   ],
   "source": [
    "pip install pytest"
   ]
  },
  {
   "cell_type": "code",
   "execution_count": null,
   "id": "d670b114-46f5-4a8a-9d84-bd5978ba0e56",
   "metadata": {},
   "outputs": [],
   "source": []
  }
 ],
 "metadata": {
  "kernelspec": {
   "display_name": "Python 3 (ipykernel)",
   "language": "python",
   "name": "python3"
  },
  "language_info": {
   "codemirror_mode": {
    "name": "ipython",
    "version": 3
   },
   "file_extension": ".py",
   "mimetype": "text/x-python",
   "name": "python",
   "nbconvert_exporter": "python",
   "pygments_lexer": "ipython3",
   "version": "3.12.0"
  }
 },
 "nbformat": 4,
 "nbformat_minor": 5
}
