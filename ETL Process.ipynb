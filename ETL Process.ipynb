{
 "cells": [
  {
   "cell_type": "code",
   "execution_count": 1,
   "id": "8b37b48c-278d-4643-abb1-f186851719b8",
   "metadata": {},
   "outputs": [],
   "source": [
    "import glob \n",
    "import pandas as pd \n",
    "import xml.etree.ElementTree as ET \n",
    "from datetime import datetime"
   ]
  },
  {
   "cell_type": "code",
   "execution_count": 2,
   "id": "d9a2bcdc-6789-40f4-88d8-c4535ad2c7a6",
   "metadata": {},
   "outputs": [
    {
     "name": "stdout",
     "output_type": "stream",
     "text": [
      "       Date               Mine   Equipment    Material  Shift  \\\n",
      "0  1/1/2023  Vasanth Coal Mine    Shovel 1  Overburden    Day   \n",
      "1  1/1/2023  Vasanth Coal Mine     Truck 1        Coal    Day   \n",
      "2  1/2/2023    Reddy Coal Mine    Shovel 1  Overburden  Night   \n",
      "3  1/2/2023    Reddy Coal Mine     Truck 2        Coal  Night   \n",
      "4  1/5/2023        RP Minerals  Dragline 1  Overburden    Day   \n",
      "5  1/5/2023        RP Minerals     Truck 1        Coal    Day   \n",
      "\n",
      "          Operator             Address  Hours_Worked  Target_TPH  Actual_TPH  \\\n",
      "0     Ramesh Patel  221B Baker Street              8        5000        4735   \n",
      "1  Aditya Deshmukh      50 Laxmi Nagar             8         800         725   \n",
      "2      Vijay Kumar  144 Golf Club Road             8        5000        4210   \n",
      "3     Priya Sharma           multiline             8         800         855   \n",
      "4       Rahul Jain  G-13 Govt. Complex            10        7000        6320   \n",
      "5      Ankit Desai       B-302 Solaris            10         900        1050   \n",
      "\n",
      "   Efficiency  \n",
      "0   94.700000  \n",
      "1   90.625000  \n",
      "2   84.200000  \n",
      "3  106.875000  \n",
      "4   90.285714  \n",
      "5  116.666667  \n"
     ]
    }
   ],
   "source": [
    "import pandas as pd\n",
    "df = pd.read_csv('M12.csv')\n",
    "df['Hours_Worked'] = pd.to_numeric(df['Hours_Worked'], errors='coerce')\n",
    "df['Efficiency'] = df['Actual_TPH'] / df['Target_TPH'] * 100\n",
    "print(df)\n"
   ]
  },
  {
   "cell_type": "code",
   "execution_count": null,
   "id": "51a47e74-1fcc-4466-8bfa-5ae98a70f903",
   "metadata": {},
   "outputs": [],
   "source": []
  }
 ],
 "metadata": {
  "kernelspec": {
   "display_name": "Python 3 (ipykernel)",
   "language": "python",
   "name": "python3"
  },
  "language_info": {
   "codemirror_mode": {
    "name": "ipython",
    "version": 3
   },
   "file_extension": ".py",
   "mimetype": "text/x-python",
   "name": "python",
   "nbconvert_exporter": "python",
   "pygments_lexer": "ipython3",
   "version": "3.12.0"
  }
 },
 "nbformat": 4,
 "nbformat_minor": 5
}
