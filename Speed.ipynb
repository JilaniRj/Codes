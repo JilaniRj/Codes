{
 "cells": [
  {
   "cell_type": "code",
   "execution_count": 1,
   "id": "4527c8d7-5ebd-46fc-91bb-9170d32609c7",
   "metadata": {},
   "outputs": [
    {
     "name": "stdin",
     "output_type": "stream",
     "text": [
      "enter distance =  87\n",
      "enter time =  8\n"
     ]
    },
    {
     "name": "stdout",
     "output_type": "stream",
     "text": [
      "distance: 87 m\n",
      "Time : 8 seconds\n",
      "speed: 10.875 m/s\n"
     ]
    }
   ],
   "source": [
    "class SimulationParameters:\n",
    "    def __init__(self, distance, time):\n",
    "        self.distance = distance\n",
    "        self.time = time\n",
    "    def display_parameters(self):\n",
    "        print(f\"distance: {self.distance} m\")\n",
    "        print(f\"Time : {self.time} seconds\")\n",
    "def run_simulation(parameters):\n",
    "    # Your simulation logic goes here using the parameters\n",
    "    speed = parameters.distance / parameters.time\n",
    "    print(f\"speed: {speed} m/s\")\n",
    "# Example usage:\n",
    "if __name__ == \"__main__\":\n",
    "    # Set simulation parameters\n",
    "    distance = int(input(\"enter distance = \")) # m\n",
    "    time = int(input(\"enter time = \")) # s\n",
    "    # Create simulation parameters object\n",
    "    simulation_params = SimulationParameters( distance, time)\n",
    "    # Display simulation parameters\n",
    "    simulation_params.display_parameters()\n",
    "    # Run the simulation\n",
    "    run_simulation(simulation_params)\n",
    "\n"
   ]
  },
  {
   "cell_type": "code",
   "execution_count": null,
   "id": "bf8fed28-0417-4a37-8903-86a52e98c78d",
   "metadata": {},
   "outputs": [],
   "source": []
  }
 ],
 "metadata": {
  "kernelspec": {
   "display_name": "Python 3 (ipykernel)",
   "language": "python",
   "name": "python3"
  },
  "language_info": {
   "codemirror_mode": {
    "name": "ipython",
    "version": 3
   },
   "file_extension": ".py",
   "mimetype": "text/x-python",
   "name": "python",
   "nbconvert_exporter": "python",
   "pygments_lexer": "ipython3",
   "version": "3.12.0"
  }
 },
 "nbformat": 4,
 "nbformat_minor": 5
}
