{
 "cells": [
  {
   "cell_type": "code",
   "execution_count": 1,
   "id": "f0a3100f-5a2f-4d66-86a0-427f9a7575f6",
   "metadata": {},
   "outputs": [
    {
     "name": "stdout",
     "output_type": "stream",
     "text": [
      "                         Mine   Equipment    Material  Shift         Operator  \\\n",
      "Date                                                                            \n",
      "2023-01-01  Vasanth Coal Mine    Shovel 1  Overburden    Day     Ramesh Patel   \n",
      "2023-01-01  Vasanth Coal Mine     Truck 1        Coal    Day  Aditya Deshmukh   \n",
      "2023-01-02    Reddy Coal Mine    Shovel 1  Overburden  Night      Vijay Kumar   \n",
      "2023-01-02    Reddy Coal Mine     Truck 2        Coal  Night     Priya Sharma   \n",
      "2023-01-05        RP Minerals  Dragline 1  Overburden    Day       Rahul Jain   \n",
      "2023-01-05        RP Minerals     Truck 1        Coal    Day      Ankit Desai   \n",
      "\n",
      "                       Address  Hours_Worked  Target_TPH  Actual_TPH  \n",
      "Date                                                                  \n",
      "2023-01-01  221B Baker Street              8        5000        4735  \n",
      "2023-01-01      50 Laxmi Nagar             8         800         725  \n",
      "2023-01-02  144 Golf Club Road             8        5000        4210  \n",
      "2023-01-02           multiline             8         800         855  \n",
      "2023-01-05  G-13 Govt. Complex            10        7000        6320  \n",
      "2023-01-05       B-302 Solaris            10         900        1050  \n"
     ]
    }
   ],
   "source": [
    "import pandas as pd\n",
    "csv_file_path = 'M12.csv'\n",
    "df = pd.read_csv(csv_file_path)\n",
    "df['Date'] = pd.to_datetime(df['Date'])\n",
    "df.set_index('Date', inplace=True)\n",
    "print(df)\n",
    "\n"
   ]
  },
  {
   "cell_type": "code",
   "execution_count": 2,
   "id": "72835d92-48e6-44f7-8285-f3c7ba197d29",
   "metadata": {},
   "outputs": [
    {
     "name": "stdout",
     "output_type": "stream",
     "text": [
      "                         Mine   Equipment    Material  Shift         Operator  \\\n",
      "Date                                                                            \n",
      "2023-01-01  Vasanth Coal Mine    Shovel 1  Overburden    Day     Ramesh Patel   \n",
      "2023-01-01  Vasanth Coal Mine     Truck 1        Coal    Day  Aditya Deshmukh   \n",
      "2023-01-02    Reddy Coal Mine    Shovel 1  Overburden  Night      Vijay Kumar   \n",
      "2023-01-02    Reddy Coal Mine     Truck 2        Coal  Night     Priya Sharma   \n",
      "2023-01-05        RP Minerals  Dragline 1  Overburden    Day       Rahul Jain   \n",
      "2023-01-05        RP Minerals     Truck 1        Coal    Day      Ankit Desai   \n",
      "\n",
      "                       Address  Hours_Worked  Target_TPH  Actual_TPH  \n",
      "Date                                                                  \n",
      "2023-01-01  221B Baker Street              8        5000        4735  \n",
      "2023-01-01      50 Laxmi Nagar             8         800         725  \n",
      "2023-01-02  144 Golf Club Road             8        5000        4210  \n",
      "2023-01-02           multiline             8         800         855  \n",
      "2023-01-05  G-13 Govt. Complex            10        7000        6320  \n",
      "2023-01-05       B-302 Solaris            10         900        1050  \n"
     ]
    }
   ],
   "source": [
    "import pandas as pd\n",
    "csv_file_path = 'M12.csv'\n",
    "df = pd.read_csv(csv_file_path)\n",
    "df['Date'] = pd.to_datetime(df['Date'])\n",
    "df.set_index('Date', inplace=True)\n",
    "print(df)"
   ]
  },
  {
   "cell_type": "code",
   "execution_count": 3,
   "id": "e0f4e736-eea4-4a10-95cf-dd8734cb1b82",
   "metadata": {},
   "outputs": [
    {
     "name": "stdout",
     "output_type": "stream",
     "text": [
      "                      MineName     Material  NoOfBlasts ExplosivesUsed  \\\n",
      "Date                                                                     \n",
      "2023-03-10  Hindustan Zinc Ltd  Zinc/Silver           3         9375kg   \n",
      "\n",
      "            OverburdenRemoved     OreAccessible  \n",
      "Date                                             \n",
      "2023-03-10  156000 metric ton  32500 metric ton  \n"
     ]
    }
   ],
   "source": [
    "import pandas as pd\n",
    "csv_file_path = 'M9.csv'\n",
    "df = pd.read_csv(csv_file_path)\n",
    "df['Date'] = pd.to_datetime(df['Date'])\n",
    "df.set_index('Date', inplace=True)\n",
    "print(df)"
   ]
  },
  {
   "cell_type": "code",
   "execution_count": 4,
   "id": "8ce1437f-edf4-4c3d-a959-140cd8a9fd8e",
   "metadata": {},
   "outputs": [
    {
     "name": "stdout",
     "output_type": "stream",
     "text": [
      "         LoaderID          Operator  Material  LoadsCompleted AvgLoadTime  \\\n",
      "Date                                                                        \n",
      "1-Mar-23    L-101  Rahul Srivastava  Iron Ore              10      15 min   \n",
      "2-Mar-23    L-102  Deepika Padukone  Iron Ore              10      18 min   \n",
      "\n",
      "         TotalLoadTime  \n",
      "Date                    \n",
      "1-Mar-23       150 min  \n",
      "2-Mar-23       180 min  \n"
     ]
    }
   ],
   "source": [
    "import pandas as pd\n",
    "csv_file_path = 'M4.csv'\n",
    "df = pd.read_csv(csv_file_path)\n",
    "df.set_index('Date', inplace=True)\n",
    "print(df)"
   ]
  },
  {
   "cell_type": "code",
   "execution_count": 5,
   "id": "09b2d458-6aba-41b6-aada-efc899d283df",
   "metadata": {},
   "outputs": [
    {
     "name": "stdout",
     "output_type": "stream",
     "text": [
      "            BlockID BlastsDone     ExplosivesUsed OverburdenRemoved  \\\n",
      "Date                                                                  \n",
      "13-Feb-23   A1-east    3 blast       4500 kg ANFO        96000 T OB   \n",
      "15-Feb-23  B7-south    2 blast   2100 kg emulsion        45000 T OB   \n",
      "\n",
      "          OreExtracted   \n",
      "Date                     \n",
      "13-Feb-23   35800 T ore  \n",
      "15-Feb-23   18250 T ore  \n"
     ]
    }
   ],
   "source": [
    "import pandas as pd\n",
    "csv_file_path = 'M1.csv'\n",
    "df = pd.read_csv(csv_file_path)\n",
    "df.set_index('Date', inplace=True)\n",
    "print(df)"
   ]
  },
  {
   "cell_type": "code",
   "execution_count": null,
   "id": "969f11b7-77bc-4c87-80e2-425ed06515dc",
   "metadata": {},
   "outputs": [],
   "source": []
  }
 ],
 "metadata": {
  "kernelspec": {
   "display_name": "Python 3 (ipykernel)",
   "language": "python",
   "name": "python3"
  },
  "language_info": {
   "codemirror_mode": {
    "name": "ipython",
    "version": 3
   },
   "file_extension": ".py",
   "mimetype": "text/x-python",
   "name": "python",
   "nbconvert_exporter": "python",
   "pygments_lexer": "ipython3",
   "version": "3.12.0"
  }
 },
 "nbformat": 4,
 "nbformat_minor": 5
}
