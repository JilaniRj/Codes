{
 "cells": [
  {
   "cell_type": "code",
   "execution_count": 2,
   "id": "b18f678d-559e-484a-a187-45e8322e5e35",
   "metadata": {},
   "outputs": [],
   "source": [
    "import logging\n",
    "# Configure the logging settings\n",
    "logging.basicConfig(\n",
    "    filename='example.log',  # Specify the log file\n",
    "    level=logging.INFO,       # Set the logging level (INFO, DEBUG, etc.)\n",
    "    format='%(asctime)s - %(levelname)s - %(message)s'  # Define the log format\n",
    ")\n",
    "# Example usage\n",
    "logging.info('This is an informational message')\n",
    "logging.warning('This is a warning message')\n",
    "logging.error('This is an error message')"
   ]
  },
  {
   "cell_type": "code",
   "execution_count": null,
   "id": "3e4da964-02fe-45e5-ac06-482bc87f7dac",
   "metadata": {},
   "outputs": [],
   "source": []
  }
 ],
 "metadata": {
  "kernelspec": {
   "display_name": "Python 3 (ipykernel)",
   "language": "python",
   "name": "python3"
  },
  "language_info": {
   "codemirror_mode": {
    "name": "ipython",
    "version": 3
   },
   "file_extension": ".py",
   "mimetype": "text/x-python",
   "name": "python",
   "nbconvert_exporter": "python",
   "pygments_lexer": "ipython3",
   "version": "3.12.0"
  }
 },
 "nbformat": 4,
 "nbformat_minor": 5
}
