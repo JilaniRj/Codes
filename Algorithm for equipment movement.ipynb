{
 "cells": [
  {
   "cell_type": "code",
   "execution_count": 1,
   "id": "a7cec0ef-f646-4f88-b9d6-6a693182ef80",
   "metadata": {},
   "outputs": [
    {
     "name": "stdout",
     "output_type": "stream",
     "text": [
      "Equipment 1 starts moving at 0.00\n",
      "Equipment 2 starts moving at 0.00\n"
     ]
    }
   ],
   "source": [
    "# Import simpy package for simulation\n",
    "import simpy\n",
    "# Define a class for the equipment\n",
    "class Equipment:\n",
    "    # Initialize the equipment with an id, speed, capacity, and environment\n",
    "    def __init__(self, id, speed, capacity, env):\n",
    "        self.id = id # Unique identifier for the equipment\n",
    "        self.speed = speed # Speed of movement in meters per second\n",
    "        self.capacity = capacity # Load capacity in tons\n",
    "        self.env = env # The simulation environment\n",
    "        self.load = 0 # The current load of the equipment\n",
    "        self.location = 0 # The current location of the equipment\n",
    "        self.action = env.process(self.run()) # The main process of the equipment\n",
    "    # Define the main process of the equipment\n",
    "    def run(self):\n",
    "        # Loop indefinitely\n",
    "        while True:\n",
    "            # Move to the loading point\n",
    "            yield self.env.process(self.move(1000))\n",
    "            # Load the material\n",
    "            yield self.env.process(self.load_material(10))\n",
    "            # Move to the unloading point\n",
    "            yield self.env.process(self.move(2000))\n",
    "            # Unload the material\n",
    "            yield self.env.process(self.unload_material(10))\n",
    "    # Define the movement process of the equipment\n",
    "    def move(self, distance):\n",
    "        # Calculate the travel time based on the distance and speed\n",
    "        travel_time = distance / self.speed\n",
    "        # Print a message indicating the start of the movement\n",
    "        print(f\"Equipment {self.id} starts moving at {self.env.now:.2f}\")\n",
    "        # Wait for the travel time to elapse\n",
    "        yield self.env.timeout(travel_time)\n",
    "        # Update the location of the equipment\n",
    "        self.location += distance\n",
    "        # Print a message indicating the end of the movement\n",
    "        print(f\"Equipment {self.id} stops moving at {self.env.now:.2f}\")\n",
    "    # Define the loading process of the equipment\n",
    "    def load_material(self, amount):\n",
    "        # Check if the equipment has enough capacity to load the material\n",
    "        if self.load + amount <= self.capacity:\n",
    "            # Print a message indicating the start of the loading\n",
    "            print(f\"Equipment {self.id} starts loading at {self.env.now:.2f}\")\n",
    "            # Wait for one second to simulate the loading time\n",
    "            yield self.env.timeout(1)\n",
    "            # Update the load of the equipment\n",
    "            self.load += amount\n",
    "            # Print a message indicating the end of the loading\n",
    "            print(f\"Equipment {self.id} finishes loading at {self.env.now:.2f}\")\n",
    "        else:\n",
    "            # Print a message indicating that the equipment is full\n",
    "            print(f\"Equipment {self.id} is full and cannot load more material\")\n",
    "    # Define the unloading process of the equipment\n",
    "    def unload_material(self, amount):\n",
    "        # Check if the equipment has enough load to unload the material\n",
    "        if self.load - amount >= 0:\n",
    "            # Print a message indicating the start of the unloading\n",
    "            print(f\"Equipment {self.id} starts unloading at {self.env.now:.2f}\")\n",
    "            # Wait for one second to simulate the unloading time\n",
    "            yield self.env.timeout(1)\n",
    "            # Update the load of the equipment\n",
    "            self.load -= amount\n",
    "            # Print a message indicating the end of the unloading\n",
    "            print(f\"Equipment {self.id} finishes unloading at {self.env.now:.2f}\")\n",
    "        else:\n",
    "            # Print a message indicating that the equipment is empty\n",
    "            print(f\"Equipment {self.id} is empty and cannot unload more material\")\n",
    "# Create a simulation environment\n",
    "env = simpy.Environment()\n",
    "# Create two equipment objects with different parameters\n",
    "equipment1 = Equipment(1, 5, 20, env)\n",
    "equipment2 = Equipment(2, 10, 15, env)\n",
    "# Run the simulation for 100 seconds\n",
    "env.run(until=100)"
   ]
  },
  {
   "cell_type": "code",
   "execution_count": 2,
   "id": "b19c93c3-ec27-4b41-ad28-643198d68938",
   "metadata": {},
   "outputs": [
    {
     "name": "stdout",
     "output_type": "stream",
     "text": [
      "Excavator position: -0.44162392616197654\n",
      "Truck position: -0.91358940193683\n"
     ]
    }
   ],
   "source": [
    "import random\n",
    "class Equipment:\n",
    "    def __init__(self, name, position):\n",
    "        self.name = name\n",
    "        self.position = position\n",
    "    def move(self):\n",
    "        # Simulate movement by updating the equipment's position\n",
    "        self.position += random.uniform(-1, 1)\n",
    "def simulate_mining_process(equipment_list, time_steps):\n",
    "    for _ in range(time_steps):\n",
    "        for equipment in equipment_list:\n",
    "            equipment.move()\n",
    "# Example usage:\n",
    "equipment1 = Equipment(\"Excavator\", 0)\n",
    "equipment2 = Equipment(\"Truck\", 0)\n",
    "equipment_list = [equipment1, equipment2]\n",
    "simulate_mining_process(equipment_list, 10)\n",
    "for equipment in equipment_list:\n",
    "    print(f\"{equipment.name} position: {equipment.position}\")"
   ]
  },
  {
   "cell_type": "code",
   "execution_count": null,
   "id": "784bd713-07e6-4476-9b1e-49e40df76ddd",
   "metadata": {},
   "outputs": [],
   "source": []
  }
 ],
 "metadata": {
  "kernelspec": {
   "display_name": "Python 3 (ipykernel)",
   "language": "python",
   "name": "python3"
  },
  "language_info": {
   "codemirror_mode": {
    "name": "ipython",
    "version": 3
   },
   "file_extension": ".py",
   "mimetype": "text/x-python",
   "name": "python",
   "nbconvert_exporter": "python",
   "pygments_lexer": "ipython3",
   "version": "3.12.0"
  }
 },
 "nbformat": 4,
 "nbformat_minor": 5
}
