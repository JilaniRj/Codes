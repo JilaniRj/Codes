{
 "cells": [
  {
   "cell_type": "code",
   "execution_count": 2,
   "id": "246467e9-b814-4528-b1a6-b5773835a2f0",
   "metadata": {},
   "outputs": [
    {
     "name": "stdout",
     "output_type": "stream",
     "text": [
      "Iteration 1 - Resources: 100\n",
      "Iteration 2 - Resources: 99\n",
      "Iteration 3 - Resources: 98\n",
      "Breakdown occurred!\n",
      "Iteration 4 - Resources: 98\n",
      "Iteration 5 - Resources: 96\n",
      "Iteration 6 - Resources: 91\n",
      "Iteration 7 - Resources: 96\n",
      "Breakdown occurred!\n",
      "Iteration 8 - Resources: 100\n",
      "Iteration 9 - Resources: 96\n",
      "Iteration 10 - Resources: 101\n"
     ]
    }
   ],
   "source": [
    "import random\n",
    "class Simulation:\n",
    "    def __init__(self, num_iterations):\n",
    "        self.num_iterations = num_iterations\n",
    "        self.resources = 100  # Initial resource level\n",
    "    def simulate(self):\n",
    "        for iteration in range(1, self.num_iterations + 1):\n",
    "            print(f\"Iteration {iteration} - Resources: {self.resources}\")\n",
    "            # Introduce random events\n",
    "            if random.random() < 0.1:  # 10% chance of breakdown\n",
    "                self.handle_breakdown()\n",
    "            self.update_resources()\n",
    "    def handle_breakdown(self):\n",
    "        print(\"Breakdown occurred!\")\n",
    "        # Implement logic to handle breakdown (e.g., decrease resources)\n",
    "    def update_resources(self):\n",
    "        # Implement logic to update resources over each iteration\n",
    "        # For example, resources may increase or decrease randomly\n",
    "        self.resources += random.randint(-5, 5)  # Random variation between -5 and 5\n",
    "if __name__ == \"__main__\":\n",
    "    num_iterations = 10\n",
    "    simulation = Simulation(num_iterations)\n",
    "    simulation.simulate()\n"
   ]
  },
  {
   "cell_type": "code",
   "execution_count": 3,
   "id": "e654660c-98e2-45b5-9826-0fa0cf53be0a",
   "metadata": {},
   "outputs": [
    {
     "name": "stdout",
     "output_type": "stream",
     "text": [
      "Iteration 1 - Resources: 100\n",
      "Iteration 2 - Resources: 96\n",
      "Iteration 3 - Resources: 96\n",
      "Breakdown occurred!\n",
      "Iteration 4 - Resources: 98\n",
      "Iteration 5 - Resources: 103\n",
      "Iteration 6 - Resources: 102\n",
      "Iteration 7 - Resources: 97\n",
      "Iteration 8 - Resources: 101\n",
      "Iteration 9 - Resources: 103\n",
      "Iteration 10 - Resources: 108\n"
     ]
    }
   ],
   "source": [
    "import random\n",
    "class Simulation:\n",
    "    def __init__(self, num_iterations):\n",
    "        self.num_iterations = num_iterations\n",
    "        self.resources = 100  # Initial resource level\n",
    "    def simulate(self):\n",
    "        for iteration in range(1, self.num_iterations + 1):\n",
    "            print(f\"Iteration {iteration} - Resources: {self.resources}\")\n",
    "            # Introduce random events\n",
    "            if random.random() < 0.1:  # 10% chance of breakdown\n",
    "                self.handle_breakdown()\n",
    "            self.update_resources()\n",
    "    def handle_breakdown(self):\n",
    "        print(\"Breakdown occurred!\")\n",
    "        # Implement logic to handle breakdown (e.g., decrease resources)\n",
    "    def update_resources(self):\n",
    "        # Implement logic to update resources over each iteration\n",
    "        # For example, resources may increase or decrease randomly\n",
    "        self.resources += random.randint(-5, 5)  # Random variation between -5 and 5\n",
    "if __name__ == \"__main__\":\n",
    "    num_iterations = 10\n",
    "    simulation = Simulation(num_iterations)\n",
    "    simulation.simulate()\n",
    "\n"
   ]
  },
  {
   "cell_type": "code",
   "execution_count": null,
   "id": "03c4dfad-bf46-48f2-973c-75288a078dcb",
   "metadata": {},
   "outputs": [],
   "source": []
  }
 ],
 "metadata": {
  "kernelspec": {
   "display_name": "Python 3 (ipykernel)",
   "language": "python",
   "name": "python3"
  },
  "language_info": {
   "codemirror_mode": {
    "name": "ipython",
    "version": 3
   },
   "file_extension": ".py",
   "mimetype": "text/x-python",
   "name": "python",
   "nbconvert_exporter": "python",
   "pygments_lexer": "ipython3",
   "version": "3.12.0"
  }
 },
 "nbformat": 4,
 "nbformat_minor": 5
}
