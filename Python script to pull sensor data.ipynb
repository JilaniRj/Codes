{
 "cells": [
  {
   "cell_type": "code",
   "execution_count": 2,
   "id": "da0a3c4c-8215-4d92-a50f-81ad3b3e082f",
   "metadata": {},
   "outputs": [
    {
     "name": "stdout",
     "output_type": "stream",
     "text": [
      "Error fetching sensor data: 404 Client Error: Not Found for url: https://example.com/sensor_data.csv\n"
     ]
    },
    {
     "ename": "ModuleNotFoundError",
     "evalue": "No module named 'your_sensor_library'",
     "output_type": "error",
     "traceback": [
      "\u001b[1;31m---------------------------------------------------------------------------\u001b[0m",
      "\u001b[1;31mModuleNotFoundError\u001b[0m                       Traceback (most recent call last)",
      "Cell \u001b[1;32mIn[2], line 29\u001b[0m\n\u001b[0;32m     27\u001b[0m \u001b[38;5;28;01mimport\u001b[39;00m \u001b[38;5;21;01mcsv\u001b[39;00m\n\u001b[0;32m     28\u001b[0m \u001b[38;5;28;01mimport\u001b[39;00m \u001b[38;5;21;01mtime\u001b[39;00m\n\u001b[1;32m---> 29\u001b[0m \u001b[38;5;28;01mfrom\u001b[39;00m \u001b[38;5;21;01myour_sensor_library\u001b[39;00m \u001b[38;5;28;01mimport\u001b[39;00m Sensor  \u001b[38;5;66;03m#Here I have  Replace with actual sensor library\u001b[39;00m\n\u001b[0;32m     30\u001b[0m \u001b[38;5;66;03m# Initialize your sensor (replace 'Sensor' with my actual sensor class)\u001b[39;00m\n\u001b[0;32m     31\u001b[0m sensor \u001b[38;5;241m=\u001b[39m Sensor()\n",
      "\u001b[1;31mModuleNotFoundError\u001b[0m: No module named 'your_sensor_library'"
     ]
    }
   ],
   "source": [
    "import requests\n",
    "import csv\n",
    "def fetch_sensor_data(url):\n",
    "    try:\n",
    "        response = requests.get(url)\n",
    "        response.raise_for_status()  # Check for request errors\n",
    "        csv_data = response.text\n",
    "        sensor_data = list(csv.DictReader(csv_data.splitlines()))\n",
    "        return sensor_data\n",
    "    except requests.exceptions.RequestException as e:\n",
    "        print(f\"Error fetching sensor data: {e}\")\n",
    "        return None\n",
    "# Example\n",
    "sensor_url = 'https://example.com/sensor_data.csv'\n",
    "data = fetch_sensor_data(sensor_url)\n",
    "if data:\n",
    "    for entry in data:\n",
    "        print(entry)\n",
    "\n",
    "        \n",
    "        \n",
    "\n",
    "\n",
    "# In[2]:\n",
    "\n",
    "\n",
    "import csv\n",
    "import time\n",
    "from your_sensor_library import Sensor  #Here I have  Replace with actual sensor library\n",
    "# Initialize your sensor (replace 'Sensor' with my actual sensor class)\n",
    "sensor = Sensor()\n",
    "# Open a CSV file in write mode\n",
    "csv_file_path = 'sensor_data.csv'\n",
    "with open(csv_file_path, 'w', newline='') as csv_file:\n",
    "    # Create a CSV writer\n",
    "    csv_writer = csv.writer(csv_file)\n",
    "    # Write header (if needed)\n",
    "    csv_writer.writerow(['Timestamp', 'SensorData1', 'SensorData2'])\n",
    "    # Loop to pull data from sensors and write to CSV\n",
    "    try:\n",
    "        while True:\n",
    "            # Read sensor data (replace with actual sensor reading)\n",
    "            sensor_data = sensor.read_data()\n",
    "            # Get current timestamp\n",
    "            timestamp = time.strftime('%Y-%m-%d %H:%M:%S')\n",
    "            # Write data to CSV\n",
    "            csv_writer.writerow([timestamp, sensor_data['data1'], sensor_data['data2']])\n",
    "            # Wait for some time before the next reading\n",
    "            time.sleep(1)\n",
    "    except KeyboardInterrupt:\n",
    "        print(\"Data collection stopped.\")\n",
    "# Note: Make sure to replace 'your_sensor_library' and 'Sensor' with the actual names from your sensor library.\n",
    "\n",
    "\n",
    "\n",
    "\n"
   ]
  },
  {
   "cell_type": "code",
   "execution_count": null,
   "id": "c4996010-10ac-49cf-904b-e9c88b94bb20",
   "metadata": {},
   "outputs": [],
   "source": []
  }
 ],
 "metadata": {
  "kernelspec": {
   "display_name": "Python 3 (ipykernel)",
   "language": "python",
   "name": "python3"
  },
  "language_info": {
   "codemirror_mode": {
    "name": "ipython",
    "version": 3
   },
   "file_extension": ".py",
   "mimetype": "text/x-python",
   "name": "python",
   "nbconvert_exporter": "python",
   "pygments_lexer": "ipython3",
   "version": "3.12.0"
  }
 },
 "nbformat": 4,
 "nbformat_minor": 5
}
