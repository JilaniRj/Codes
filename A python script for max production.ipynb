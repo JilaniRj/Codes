{
 "cells": [
  {
   "cell_type": "code",
   "execution_count": 1,
   "id": "dd51baee-675b-4bfd-8b97-a5e2aab89485",
   "metadata": {},
   "outputs": [
    {
     "name": "stdout",
     "output_type": "stream",
     "text": [
      "Scenario: Extraction Rate 0.947, EquipmentStrategy shovel1, MiningArea Miningarea_1 - Productivity: 0.3936834668450863\n",
      "Scenario: Extraction Rate 0.947, EquipmentStrategy shovel1, MiningArea Miningarea_2 - Productivity: 0.2886696091234345\n",
      "Scenario: Extraction Rate 0.947, EquipmentStrategy truck1, MiningArea Miningarea_1 - Productivity: 0.46427412483795255\n",
      "Scenario: Extraction Rate 0.947, EquipmentStrategy truck1, MiningArea Miningarea_2 - Productivity: 0.43169450027104955\n",
      "Scenario: Extraction Rate 0.947, EquipmentStrategy shovel1, MiningArea Miningarea_1 - Productivity: 0.343756029546157\n",
      "Scenario: Extraction Rate 0.947, EquipmentStrategy shovel1, MiningArea Miningarea_2 - Productivity: 0.3644184047681589\n",
      "Scenario: Extraction Rate 0.906, EquipmentStrategy shovel1, MiningArea Miningarea_1 - Productivity: 0.40582807687478434\n",
      "Scenario: Extraction Rate 0.906, EquipmentStrategy shovel1, MiningArea Miningarea_2 - Productivity: 0.4303344787983631\n",
      "Scenario: Extraction Rate 0.906, EquipmentStrategy truck1, MiningArea Miningarea_1 - Productivity: 0.2773996181154667\n",
      "Scenario: Extraction Rate 0.906, EquipmentStrategy truck1, MiningArea Miningarea_2 - Productivity: 0.34521227299781054\n",
      "Scenario: Extraction Rate 0.906, EquipmentStrategy shovel1, MiningArea Miningarea_1 - Productivity: 0.28046691762306075\n",
      "Scenario: Extraction Rate 0.906, EquipmentStrategy shovel1, MiningArea Miningarea_2 - Productivity: 0.31630390940834713\n",
      "Scenario: Extraction Rate 0.842, EquipmentStrategy shovel1, MiningArea Miningarea_1 - Productivity: 0.3784060825861486\n",
      "Scenario: Extraction Rate 0.842, EquipmentStrategy shovel1, MiningArea Miningarea_2 - Productivity: 0.32554929803919924\n",
      "Scenario: Extraction Rate 0.842, EquipmentStrategy truck1, MiningArea Miningarea_1 - Productivity: 0.2934578456925346\n",
      "Scenario: Extraction Rate 0.842, EquipmentStrategy truck1, MiningArea Miningarea_2 - Productivity: 0.2530134447953531\n",
      "Scenario: Extraction Rate 0.842, EquipmentStrategy shovel1, MiningArea Miningarea_1 - Productivity: 0.29428898775001455\n",
      "Scenario: Extraction Rate 0.842, EquipmentStrategy shovel1, MiningArea Miningarea_2 - Productivity: 0.3137136177448864\n"
     ]
    }
   ],
   "source": [
    "# simulation_script.py\n",
    "import numpy as np\n",
    "def simulate_extraction(extraction_rate, equipment_strategy, resource_distribution):\n",
    "    # Implement your simulation logic here\n",
    "    # Use extraction_rate, deployment_strategy, and resource_distribution parameters\n",
    "    # Example: Simulate extraction and calculate productivity\n",
    "    simulated_productivity = np.random.uniform(0.3,0.5 ) * extraction_rate\n",
    "    return simulated_productivity\n",
    "def main():\n",
    "    # Define different scenarios\n",
    "    extraction_rates = [0.947, 0.906, 0.842]\n",
    "    Equipment_strategies = ['shovel1', 'truck1', 'shovel1']\n",
    "    resource_distributions = {'Miningarea_1': [0.3, 0.5, 0.2], 'Miningarea_2': [0.2, 0.2, 0.6]}\n",
    "    # Iterate through scenarios\n",
    "    for rate in extraction_rates:\n",
    "        for strategy in Equipment_strategies:\n",
    "            for area, distribution in resource_distributions.items():\n",
    "                productivity = simulate_extraction(rate, strategy, distribution)\n",
    "                print(f\"Scenario: Extraction Rate {rate}, EquipmentStrategy {strategy}, MiningArea {area} - Productivity: {productivity}\")\n",
    "if __name__ == \"__main__\":\n",
    "    main()"
   ]
  },
  {
   "cell_type": "code",
   "execution_count": null,
   "id": "6a9bb64f-c551-4775-95d4-9f1343dd5a4f",
   "metadata": {},
   "outputs": [],
   "source": []
  }
 ],
 "metadata": {
  "kernelspec": {
   "display_name": "Python 3 (ipykernel)",
   "language": "python",
   "name": "python3"
  },
  "language_info": {
   "codemirror_mode": {
    "name": "ipython",
    "version": 3
   },
   "file_extension": ".py",
   "mimetype": "text/x-python",
   "name": "python",
   "nbconvert_exporter": "python",
   "pygments_lexer": "ipython3",
   "version": "3.12.0"
  }
 },
 "nbformat": 4,
 "nbformat_minor": 5
}
